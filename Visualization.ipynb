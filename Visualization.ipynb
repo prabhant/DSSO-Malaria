{
 "cells": [
  {
   "cell_type": "code",
   "execution_count": 3,
   "metadata": {},
   "outputs": [],
   "source": [
    "import seaborn as sns\n",
    "import matplotlib.pyplot as plt\n",
    "%matplotlib inline\n",
    "import numpy as np\n",
    "import pandas as pd\n",
    "import collections"
   ]
  },
  {
   "cell_type": "code",
   "execution_count": 5,
   "metadata": {},
   "outputs": [],
   "source": [
    "# load data\n",
    "dfm = pd.read_csv('/Users/jfehr/Documents/AI_Scope_Sleepover/mos_final.csv')\n",
    "dfl = pd.read_csv('/Users/jfehr/Documents/AI_Scope_Sleepover/larva_final.csv')"
   ]
  },
  {
   "cell_type": "code",
   "execution_count": 14,
   "metadata": {},
   "outputs": [],
   "source": [
    "malaria_cases = dfm[dfm['Disease']=='MALARIA']\n",
    "dengue_cases = dfm[dfm['Disease']=='DENGUE']"
   ]
  },
  {
   "cell_type": "code",
   "execution_count": 15,
   "metadata": {},
   "outputs": [
    {
     "data": {
      "text/plain": [
       "(array([22425., 24420., 26218., 28011., 32534., 41831., 43402., 34831.,\n",
       "        30233., 27850., 28635., 24560.]),\n",
       " array([ 1.        ,  1.91666667,  2.83333333,  3.75      ,  4.66666667,\n",
       "         5.58333333,  6.5       ,  7.41666667,  8.33333333,  9.25      ,\n",
       "        10.16666667, 11.08333333, 12.        ]),\n",
       " <a list of 12 Patch objects>)"
      ]
     },
     "execution_count": 15,
     "metadata": {},
     "output_type": "execute_result"
    },
    {
     "data": {
      "image/png": "[encoded data removed]",
      "text/plain": [
       "<Figure size 432x288 with 1 Axes>"
      ]
     },
     "metadata": {},
     "output_type": "display_data"
    }
   ],
   "source": [
    "plt.hist(malaria_cases['Month'], bins=12)"
   ]
  },
  {
   "cell_type": "code",
   "execution_count": 16,
   "metadata": {},
   "outputs": [
    {
     "data": {
      "text/plain": [
       "(array([8969., 9372., 6194., 4600., 8420., 8891., 4717., 1382., 1646.,\n",
       "        2993., 4375., 5078.]),\n",
       " array([ 1.        ,  1.91666667,  2.83333333,  3.75      ,  4.66666667,\n",
       "         5.58333333,  6.5       ,  7.41666667,  8.33333333,  9.25      ,\n",
       "        10.16666667, 11.08333333, 12.        ]),\n",
       " <a list of 12 Patch objects>)"
      ]
     },
     "execution_count": 16,
     "metadata": {},
     "output_type": "execute_result"
    },
    {
     "data": {
      "image/png": "[encoded data removed]",
      "text/plain": [
       "<Figure size 432x288 with 1 Axes>"
      ]
     },
     "metadata": {},
     "output_type": "display_data"
    }
   ],
   "source": [
    "plt.hist(dengue_cases['Month'], bins=12)"
   ]
  },
  {
   "cell_type": "code",
   "execution_count": 6,
   "metadata": {},
   "outputs": [],
   "source": [
    "month = [1,2,3,4,5,6,7,8,9,10,11,12]\n",
    "rainfall = [184.6, 138.5, 173.7, 154.7, 137.3, 113.7, 98.5, 92.9, 96.9, 121.2, 147.2, 159.0]"
   ]
  },
  {
   "cell_type": "code",
   "execution_count": 2,
   "metadata": {},
   "outputs": [],
   "source": []
  },
  {
   "cell_type": "code",
   "execution_count": null,
   "metadata": {},
   "outputs": [],
   "source": [
    "malaria_cases = []\n",
    "dengue_cases = []"
   ]
  }
 ],
 "metadata": {
  "kernelspec": {
   "display_name": "Python 3",
   "language": "python",
   "name": "python3"
  },
  "language_info": {
   "codemirror_mode": {
    "name": "ipython",
    "version": 3
   },
   "file_extension": ".py",
   "mimetype": "text/x-python",
   "name": "python",
   "nbconvert_exporter": "python",
   "pygments_lexer": "ipython3",
   "version": "3.6.5"
  }
 },
 "nbformat": 4,
 "nbformat_minor": 2
}
