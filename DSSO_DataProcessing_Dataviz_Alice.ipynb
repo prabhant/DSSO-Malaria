{
 "cells": [
  {
   "cell_type": "code",
   "execution_count": 1,
   "metadata": {},
   "outputs": [],
   "source": [
    "#imports \n",
    "import numpy as np \n",
    "import pandas as pd \n",
    "import matplotlib.pyplot as plt\n",
    "import seaborn as sns\n",
    "\n",
    "import urllib.parse\n",
    "from glob import glob\n",
    "import ntpath \n",
    "import re"
   ]
  },
  {
   "cell_type": "markdown",
   "metadata": {},
   "source": [
    "## Data processing"
   ]
  },
  {
   "cell_type": "markdown",
   "metadata": {},
   "source": [
    "### Reading 2G"
   ]
  },
  {
   "cell_type": "code",
   "execution_count": 2,
   "metadata": {},
   "outputs": [
    {
     "name": "stdout",
     "output_type": "stream",
     "text": [
      "length:17981\n",
      "number of features:8\n"
     ]
    },
    {
     "name": "stderr",
     "output_type": "stream",
     "text": [
      "/anaconda3/lib/python3.6/site-packages/ipykernel_launcher.py:19: SettingWithCopyWarning: \n",
      "A value is trying to be set on a copy of a slice from a DataFrame.\n",
      "Try using .loc[row_indexer,col_indexer] = value instead\n",
      "\n",
      "See the caveats in the documentation: http://pandas.pydata.org/pandas-docs/stable/indexing.html#indexing-view-versus-copy\n"
     ]
    }
   ],
   "source": [
    "# reading 2G.csv\n",
    "file='Data/2G.csv'\n",
    "\n",
    "\n",
    "data_2G=pd.read_csv(file,sep=';') \n",
    "print('length:{}'.format(len(data_2G)))\n",
    "print('number of features:{}'.format(len(data_2G.columns)))\n",
    "\n",
    "#data_2G.head()\n",
    "\n",
    "#Subsetting the dataset taking only Loreto Region \n",
    "data_2G_Loreto=data_2G[data_2G['Región']=='LORETO']\n",
    "old_index=list(data_2G_Loreto.index)\n",
    "new_index=list(range(len(data_2G_Loreto)))\n",
    "re_index=dict(zip(old_index,new_index))\n",
    "data_2G_Loreto.reindex(index=re_index)\n",
    "\n",
    "\n",
    "data_2G_Loreto['LOCALCOD']=data_2G_Loreto['Código UBIGEO (10 Digitos)'].astype(str)\n",
    "#type(data_2G_Loreto['LOCALCOD'])\n",
    "#re_index\n",
    "#data_2G_Loreto"
   ]
  },
  {
   "cell_type": "markdown",
   "metadata": {},
   "source": [
    "### Reading Larva"
   ]
  },
  {
   "cell_type": "code",
   "execution_count": 3,
   "metadata": {},
   "outputs": [
    {
     "name": "stdout",
     "output_type": "stream",
     "text": [
      "length:474664\n",
      "number of features:13\n",
      "1256\n"
     ]
    },
    {
     "data": {
      "text/html": [
       "<div>\n",
       "<style scoped>\n",
       "    .dataframe tbody tr th:only-of-type {\n",
       "        vertical-align: middle;\n",
       "    }\n",
       "\n",
       "    .dataframe tbody tr th {\n",
       "        vertical-align: top;\n",
       "    }\n",
       "\n",
       "    .dataframe thead th {\n",
       "        text-align: right;\n",
       "    }\n",
       "</style>\n",
       "<table border=\"1\" class=\"dataframe\">\n",
       "  <thead>\n",
       "    <tr style=\"text-align: right;\">\n",
       "      <th></th>\n",
       "      <th>Unnamed: 0</th>\n",
       "      <th>Unnamed: 0.1</th>\n",
       "      <th>X1</th>\n",
       "      <th>Unnamed: 0.1.1</th>\n",
       "      <th>CUVI</th>\n",
       "      <th>BUILDING</th>\n",
       "      <th>DATE</th>\n",
       "      <th>LARVA</th>\n",
       "      <th>LATITUDE</th>\n",
       "      <th>LONGITUDE</th>\n",
       "      <th>YEAR</th>\n",
       "      <th>MONTH</th>\n",
       "      <th>SEASON</th>\n",
       "    </tr>\n",
       "  </thead>\n",
       "  <tbody>\n",
       "    <tr>\n",
       "      <th>0</th>\n",
       "      <td>0</td>\n",
       "      <td>1</td>\n",
       "      <td>152493</td>\n",
       "      <td>152605</td>\n",
       "      <td>9XSJ4F2UGUUS11G</td>\n",
       "      <td>MERCADILLO</td>\n",
       "      <td>1.484611e+09</td>\n",
       "      <td>0.0</td>\n",
       "      <td>-3.702633</td>\n",
       "      <td>-73.249201</td>\n",
       "      <td>2017.0</td>\n",
       "      <td>1.0</td>\n",
       "      <td>WETTEST</td>\n",
       "    </tr>\n",
       "    <tr>\n",
       "      <th>1</th>\n",
       "      <td>1</td>\n",
       "      <td>2</td>\n",
       "      <td>155867</td>\n",
       "      <td>155979</td>\n",
       "      <td>9XSJ4F2UGUUS11G</td>\n",
       "      <td>MERCADILLO</td>\n",
       "      <td>1.493856e+09</td>\n",
       "      <td>0.0</td>\n",
       "      <td>-3.702633</td>\n",
       "      <td>-73.249201</td>\n",
       "      <td>2017.0</td>\n",
       "      <td>5.0</td>\n",
       "      <td>DRY</td>\n",
       "    </tr>\n",
       "    <tr>\n",
       "      <th>2</th>\n",
       "      <td>2</td>\n",
       "      <td>3</td>\n",
       "      <td>159241</td>\n",
       "      <td>159353</td>\n",
       "      <td>9XSJ4F2UGUUS11G</td>\n",
       "      <td>MERCADILLO</td>\n",
       "      <td>1.500854e+09</td>\n",
       "      <td>0.0</td>\n",
       "      <td>-3.702633</td>\n",
       "      <td>-73.249201</td>\n",
       "      <td>2017.0</td>\n",
       "      <td>7.0</td>\n",
       "      <td>DRY</td>\n",
       "    </tr>\n",
       "    <tr>\n",
       "      <th>3</th>\n",
       "      <td>3</td>\n",
       "      <td>4</td>\n",
       "      <td>166059</td>\n",
       "      <td>166171</td>\n",
       "      <td>9XSJ4F2UGUUS11G</td>\n",
       "      <td>CLUB NAUTICA DE CAZA Y PESCA</td>\n",
       "      <td>1.514333e+09</td>\n",
       "      <td>0.0</td>\n",
       "      <td>-3.702633</td>\n",
       "      <td>-73.249201</td>\n",
       "      <td>2017.0</td>\n",
       "      <td>12.0</td>\n",
       "      <td>WET</td>\n",
       "    </tr>\n",
       "    <tr>\n",
       "      <th>4</th>\n",
       "      <td>8</td>\n",
       "      <td>9</td>\n",
       "      <td>162685</td>\n",
       "      <td>162797</td>\n",
       "      <td>9XSJ4F2UGUUS11G</td>\n",
       "      <td>CLUB NAUTICA DE CAZA Y PESCA</td>\n",
       "      <td>1.510013e+09</td>\n",
       "      <td>NaN</td>\n",
       "      <td>-3.702633</td>\n",
       "      <td>-73.249201</td>\n",
       "      <td>2017.0</td>\n",
       "      <td>11.0</td>\n",
       "      <td>WET</td>\n",
       "    </tr>\n",
       "  </tbody>\n",
       "</table>\n",
       "</div>"
      ],
      "text/plain": [
       "   Unnamed: 0  Unnamed: 0.1      X1  Unnamed: 0.1.1             CUVI  \\\n",
       "0           0             1  152493          152605  9XSJ4F2UGUUS11G   \n",
       "1           1             2  155867          155979  9XSJ4F2UGUUS11G   \n",
       "2           2             3  159241          159353  9XSJ4F2UGUUS11G   \n",
       "3           3             4  166059          166171  9XSJ4F2UGUUS11G   \n",
       "4           8             9  162685          162797  9XSJ4F2UGUUS11G   \n",
       "\n",
       "                       BUILDING          DATE  LARVA  LATITUDE  LONGITUDE  \\\n",
       "0                    MERCADILLO  1.484611e+09    0.0 -3.702633 -73.249201   \n",
       "1                    MERCADILLO  1.493856e+09    0.0 -3.702633 -73.249201   \n",
       "2                    MERCADILLO  1.500854e+09    0.0 -3.702633 -73.249201   \n",
       "3  CLUB NAUTICA DE CAZA Y PESCA  1.514333e+09    0.0 -3.702633 -73.249201   \n",
       "4  CLUB NAUTICA DE CAZA Y PESCA  1.510013e+09    NaN -3.702633 -73.249201   \n",
       "\n",
       "     YEAR  MONTH   SEASON  \n",
       "0  2017.0    1.0  WETTEST  \n",
       "1  2017.0    5.0      DRY  \n",
       "2  2017.0    7.0      DRY  \n",
       "3  2017.0   12.0      WET  \n",
       "4  2017.0   11.0      WET  "
      ]
     },
     "execution_count": 3,
     "metadata": {},
     "output_type": "execute_result"
    }
   ],
   "source": [
    "# reading larva.csv\n",
    "file='Data/larva_final.csv'\n",
    "\n",
    "\n",
    "data_larva=pd.read_csv(file) \n",
    "print('length:{}'.format(len(data_larva)))\n",
    "print('number of features:{}'.format(len(data_larva.columns)))\n",
    "\n",
    "l=list(set(data_larva['BUILDING']))\n",
    "print(len(l))\n",
    "\n",
    "\n",
    "data_larva.head()\n",
    "\n",
    "#col_larva=pd.DataFrame(list(data_larva.columns))\n",
    "#col_larva[]"
   ]
  },
  {
   "cell_type": "markdown",
   "metadata": {},
   "source": [
    "### Reading Mosquito"
   ]
  },
  {
   "cell_type": "code",
   "execution_count": 4,
   "metadata": {},
   "outputs": [
    {
     "name": "stdout",
     "output_type": "stream",
     "text": [
      "length:431587\n",
      "number of features:15\n"
     ]
    },
    {
     "data": {
      "text/html": [
       "<div>\n",
       "<style scoped>\n",
       "    .dataframe tbody tr th:only-of-type {\n",
       "        vertical-align: middle;\n",
       "    }\n",
       "\n",
       "    .dataframe tbody tr th {\n",
       "        vertical-align: top;\n",
       "    }\n",
       "\n",
       "    .dataframe thead th {\n",
       "        text-align: right;\n",
       "    }\n",
       "</style>\n",
       "<table border=\"1\" class=\"dataframe\">\n",
       "  <thead>\n",
       "    <tr style=\"text-align: right;\">\n",
       "      <th></th>\n",
       "      <th>Unnamed: 0</th>\n",
       "      <th>Unnamed: 0.1</th>\n",
       "      <th>FECHA_ING</th>\n",
       "      <th>PERS ID</th>\n",
       "      <th>DIAGNO</th>\n",
       "      <th>UBIGEO</th>\n",
       "      <th>LOCALCOD</th>\n",
       "      <th>EDAD</th>\n",
       "      <th>SEXO</th>\n",
       "      <th>Year</th>\n",
       "      <th>Month</th>\n",
       "      <th>Day</th>\n",
       "      <th>Disease</th>\n",
       "      <th>Larva</th>\n",
       "      <th>Season</th>\n",
       "    </tr>\n",
       "  </thead>\n",
       "  <tbody>\n",
       "    <tr>\n",
       "      <th>0</th>\n",
       "      <td>0</td>\n",
       "      <td>6223</td>\n",
       "      <td>2008-12-12</td>\n",
       "      <td>PA069-SH3</td>\n",
       "      <td>MALARIA PFALCIPARUM</td>\n",
       "      <td>160103</td>\n",
       "      <td>1601030069</td>\n",
       "      <td>22</td>\n",
       "      <td>F</td>\n",
       "      <td>2008</td>\n",
       "      <td>12</td>\n",
       "      <td>12</td>\n",
       "      <td>MALARIA</td>\n",
       "      <td>PFALCIPARUM</td>\n",
       "      <td>RAINY</td>\n",
       "    </tr>\n",
       "    <tr>\n",
       "      <th>1</th>\n",
       "      <td>1</td>\n",
       "      <td>6225</td>\n",
       "      <td>2008-12-12</td>\n",
       "      <td>PA069-SH1</td>\n",
       "      <td>MALARIA PFALCIPARUM</td>\n",
       "      <td>160103</td>\n",
       "      <td>1601030069</td>\n",
       "      <td>22</td>\n",
       "      <td>F</td>\n",
       "      <td>2008</td>\n",
       "      <td>12</td>\n",
       "      <td>12</td>\n",
       "      <td>MALARIA</td>\n",
       "      <td>PFALCIPARUM</td>\n",
       "      <td>RAINY</td>\n",
       "    </tr>\n",
       "    <tr>\n",
       "      <th>2</th>\n",
       "      <td>2</td>\n",
       "      <td>6227</td>\n",
       "      <td>2010-01-18</td>\n",
       "      <td>PE001BEDAR1</td>\n",
       "      <td>DENGUE SIN SEÐALES DE ALARMA</td>\n",
       "      <td>160101</td>\n",
       "      <td>1601010001</td>\n",
       "      <td>37</td>\n",
       "      <td>M</td>\n",
       "      <td>2010</td>\n",
       "      <td>1</td>\n",
       "      <td>18</td>\n",
       "      <td>DENGUE</td>\n",
       "      <td>SIN</td>\n",
       "      <td>WETTEST</td>\n",
       "    </tr>\n",
       "    <tr>\n",
       "      <th>3</th>\n",
       "      <td>3</td>\n",
       "      <td>6228</td>\n",
       "      <td>2010-01-18</td>\n",
       "      <td>AY062ROBAJ1</td>\n",
       "      <td>MALARIA VIVAX</td>\n",
       "      <td>160106</td>\n",
       "      <td>1601060062</td>\n",
       "      <td>12</td>\n",
       "      <td>M</td>\n",
       "      <td>2010</td>\n",
       "      <td>1</td>\n",
       "      <td>18</td>\n",
       "      <td>MALARIA</td>\n",
       "      <td>VIVAX</td>\n",
       "      <td>WETTEST</td>\n",
       "    </tr>\n",
       "    <tr>\n",
       "      <th>4</th>\n",
       "      <td>4</td>\n",
       "      <td>6229</td>\n",
       "      <td>2010-01-25</td>\n",
       "      <td>VI024MARHU1</td>\n",
       "      <td>MALARIA VIVAX</td>\n",
       "      <td>160304</td>\n",
       "      <td>1603040024</td>\n",
       "      <td>20</td>\n",
       "      <td>F</td>\n",
       "      <td>2010</td>\n",
       "      <td>1</td>\n",
       "      <td>25</td>\n",
       "      <td>MALARIA</td>\n",
       "      <td>VIVAX</td>\n",
       "      <td>WETTEST</td>\n",
       "    </tr>\n",
       "  </tbody>\n",
       "</table>\n",
       "</div>"
      ],
      "text/plain": [
       "   Unnamed: 0  Unnamed: 0.1   FECHA_ING      PERS ID  \\\n",
       "0           0          6223  2008-12-12    PA069-SH3   \n",
       "1           1          6225  2008-12-12    PA069-SH1   \n",
       "2           2          6227  2010-01-18  PE001BEDAR1   \n",
       "3           3          6228  2010-01-18  AY062ROBAJ1   \n",
       "4           4          6229  2010-01-25  VI024MARHU1   \n",
       "\n",
       "                         DIAGNO  UBIGEO    LOCALCOD  EDAD SEXO  Year  Month  \\\n",
       "0           MALARIA PFALCIPARUM  160103  1601030069    22    F  2008     12   \n",
       "1           MALARIA PFALCIPARUM  160103  1601030069    22    F  2008     12   \n",
       "2  DENGUE SIN SEÐALES DE ALARMA  160101  1601010001    37    M  2010      1   \n",
       "3                 MALARIA VIVAX  160106  1601060062    12    M  2010      1   \n",
       "4                 MALARIA VIVAX  160304  1603040024    20    F  2010      1   \n",
       "\n",
       "   Day  Disease        Larva   Season  \n",
       "0   12  MALARIA  PFALCIPARUM    RAINY  \n",
       "1   12  MALARIA  PFALCIPARUM    RAINY  \n",
       "2   18   DENGUE          SIN  WETTEST  \n",
       "3   18  MALARIA        VIVAX  WETTEST  \n",
       "4   25  MALARIA        VIVAX  WETTEST  "
      ]
     },
     "execution_count": 4,
     "metadata": {},
     "output_type": "execute_result"
    }
   ],
   "source": [
    "# reading mosquito.csv\n",
    "file='Data/mos_final.csv'\n",
    "\n",
    "data_mosquito=pd.read_csv(file) \n",
    "print('length:{}'.format(len(data_mosquito)))\n",
    "print('number of features:{}'.format(len(data_mosquito.columns)))\n",
    "\n",
    "data_mosquito['LOCALCOD']=data_mosquito['LOCALCOD'].astype(str)\n",
    "\n",
    "#checking data cleaning to find anormal patterns in 'LOCALCOD'\n",
    "l=list(set(data_mosquito['LOCALCOD']))\n",
    "#print(l)\n",
    "char_list=[s for s in l if re.search('[a-z]',s)]\n",
    "num_list=[s for s in l if re.search('\\d{10}',s)]\n",
    "blank_list=[s for s in l if re.search('\\s',s)]\n",
    "blank_list\n",
    "#char_list\n",
    "#len(data_mosquito)-len(num_list[0])\n",
    "\n",
    "# number of LOCALCOD\n",
    "len(list(set(data_mosquito['LOCALCOD'])))\n",
    "#data_mosquito['LOCALCOD'].value_counts()\n",
    "\n",
    "data_mosquito.head()"
   ]
  },
  {
   "cell_type": "markdown",
   "metadata": {},
   "source": [
    "### Merging 2G & Mosquito"
   ]
  },
  {
   "cell_type": "code",
   "execution_count": 5,
   "metadata": {},
   "outputs": [
    {
     "name": "stdout",
     "output_type": "stream",
     "text": [
      "431587\n"
     ]
    },
    {
     "data": {
      "text/html": [
       "<div>\n",
       "<style scoped>\n",
       "    .dataframe tbody tr th:only-of-type {\n",
       "        vertical-align: middle;\n",
       "    }\n",
       "\n",
       "    .dataframe tbody tr th {\n",
       "        vertical-align: top;\n",
       "    }\n",
       "\n",
       "    .dataframe thead th {\n",
       "        text-align: right;\n",
       "    }\n",
       "</style>\n",
       "<table border=\"1\" class=\"dataframe\">\n",
       "  <thead>\n",
       "    <tr style=\"text-align: right;\">\n",
       "      <th></th>\n",
       "      <th>Unnamed: 0</th>\n",
       "      <th>Unnamed: 0.1</th>\n",
       "      <th>FECHA_ING</th>\n",
       "      <th>PERS ID</th>\n",
       "      <th>DIAGNO</th>\n",
       "      <th>UBIGEO</th>\n",
       "      <th>LOCALCOD</th>\n",
       "      <th>EDAD</th>\n",
       "      <th>SEXO</th>\n",
       "      <th>Year</th>\n",
       "      <th>...</th>\n",
       "      <th>Larva</th>\n",
       "      <th>Season</th>\n",
       "      <th>Código UBIGEO (10 Digitos)</th>\n",
       "      <th>Centro poblado</th>\n",
       "      <th>Distrito</th>\n",
       "      <th>Provincia</th>\n",
       "      <th>Región</th>\n",
       "      <th>LATITUD</th>\n",
       "      <th>LONGITUD</th>\n",
       "      <th>CLASIFICACIÓN INEI</th>\n",
       "    </tr>\n",
       "  </thead>\n",
       "  <tbody>\n",
       "    <tr>\n",
       "      <th>0</th>\n",
       "      <td>0</td>\n",
       "      <td>6223</td>\n",
       "      <td>2008-12-12</td>\n",
       "      <td>PA069-SH3</td>\n",
       "      <td>MALARIA PFALCIPARUM</td>\n",
       "      <td>160103</td>\n",
       "      <td>1601030069</td>\n",
       "      <td>22</td>\n",
       "      <td>F</td>\n",
       "      <td>2008</td>\n",
       "      <td>...</td>\n",
       "      <td>PFALCIPARUM</td>\n",
       "      <td>RAINY</td>\n",
       "      <td>NaN</td>\n",
       "      <td>NaN</td>\n",
       "      <td>NaN</td>\n",
       "      <td>NaN</td>\n",
       "      <td>NaN</td>\n",
       "      <td>NaN</td>\n",
       "      <td>NaN</td>\n",
       "      <td>NaN</td>\n",
       "    </tr>\n",
       "    <tr>\n",
       "      <th>1</th>\n",
       "      <td>1</td>\n",
       "      <td>6225</td>\n",
       "      <td>2008-12-12</td>\n",
       "      <td>PA069-SH1</td>\n",
       "      <td>MALARIA PFALCIPARUM</td>\n",
       "      <td>160103</td>\n",
       "      <td>1601030069</td>\n",
       "      <td>22</td>\n",
       "      <td>F</td>\n",
       "      <td>2008</td>\n",
       "      <td>...</td>\n",
       "      <td>PFALCIPARUM</td>\n",
       "      <td>RAINY</td>\n",
       "      <td>NaN</td>\n",
       "      <td>NaN</td>\n",
       "      <td>NaN</td>\n",
       "      <td>NaN</td>\n",
       "      <td>NaN</td>\n",
       "      <td>NaN</td>\n",
       "      <td>NaN</td>\n",
       "      <td>NaN</td>\n",
       "    </tr>\n",
       "    <tr>\n",
       "      <th>2</th>\n",
       "      <td>2</td>\n",
       "      <td>6227</td>\n",
       "      <td>2010-01-18</td>\n",
       "      <td>PE001BEDAR1</td>\n",
       "      <td>DENGUE SIN SEÐALES DE ALARMA</td>\n",
       "      <td>160101</td>\n",
       "      <td>1601010001</td>\n",
       "      <td>37</td>\n",
       "      <td>M</td>\n",
       "      <td>2010</td>\n",
       "      <td>...</td>\n",
       "      <td>SIN</td>\n",
       "      <td>WETTEST</td>\n",
       "      <td>1.601010e+09</td>\n",
       "      <td>IQUITOS</td>\n",
       "      <td>IQUITOS</td>\n",
       "      <td>MAYNAS</td>\n",
       "      <td>LORETO</td>\n",
       "      <td>-3.749930</td>\n",
       "      <td>-73.26217</td>\n",
       "      <td>URBANO</td>\n",
       "    </tr>\n",
       "    <tr>\n",
       "      <th>3</th>\n",
       "      <td>3</td>\n",
       "      <td>6228</td>\n",
       "      <td>2010-01-18</td>\n",
       "      <td>AY062ROBAJ1</td>\n",
       "      <td>MALARIA VIVAX</td>\n",
       "      <td>160106</td>\n",
       "      <td>1601060062</td>\n",
       "      <td>12</td>\n",
       "      <td>M</td>\n",
       "      <td>2010</td>\n",
       "      <td>...</td>\n",
       "      <td>VIVAX</td>\n",
       "      <td>WETTEST</td>\n",
       "      <td>NaN</td>\n",
       "      <td>NaN</td>\n",
       "      <td>NaN</td>\n",
       "      <td>NaN</td>\n",
       "      <td>NaN</td>\n",
       "      <td>NaN</td>\n",
       "      <td>NaN</td>\n",
       "      <td>NaN</td>\n",
       "    </tr>\n",
       "    <tr>\n",
       "      <th>4</th>\n",
       "      <td>4</td>\n",
       "      <td>6229</td>\n",
       "      <td>2010-01-25</td>\n",
       "      <td>VI024MARHU1</td>\n",
       "      <td>MALARIA VIVAX</td>\n",
       "      <td>160304</td>\n",
       "      <td>1603040024</td>\n",
       "      <td>20</td>\n",
       "      <td>F</td>\n",
       "      <td>2010</td>\n",
       "      <td>...</td>\n",
       "      <td>VIVAX</td>\n",
       "      <td>WETTEST</td>\n",
       "      <td>1.603040e+09</td>\n",
       "      <td>SAN JUAN DE TROMPETEROS CAMPESINO</td>\n",
       "      <td>TROMPETEROS</td>\n",
       "      <td>LORETO</td>\n",
       "      <td>LORETO</td>\n",
       "      <td>-3.807801</td>\n",
       "      <td>-75.07599</td>\n",
       "      <td>RURAL</td>\n",
       "    </tr>\n",
       "  </tbody>\n",
       "</table>\n",
       "<p>5 rows × 23 columns</p>\n",
       "</div>"
      ],
      "text/plain": [
       "   Unnamed: 0  Unnamed: 0.1   FECHA_ING      PERS ID  \\\n",
       "0           0          6223  2008-12-12    PA069-SH3   \n",
       "1           1          6225  2008-12-12    PA069-SH1   \n",
       "2           2          6227  2010-01-18  PE001BEDAR1   \n",
       "3           3          6228  2010-01-18  AY062ROBAJ1   \n",
       "4           4          6229  2010-01-25  VI024MARHU1   \n",
       "\n",
       "                         DIAGNO  UBIGEO    LOCALCOD  EDAD SEXO  Year  \\\n",
       "0           MALARIA PFALCIPARUM  160103  1601030069    22    F  2008   \n",
       "1           MALARIA PFALCIPARUM  160103  1601030069    22    F  2008   \n",
       "2  DENGUE SIN SEÐALES DE ALARMA  160101  1601010001    37    M  2010   \n",
       "3                 MALARIA VIVAX  160106  1601060062    12    M  2010   \n",
       "4                 MALARIA VIVAX  160304  1603040024    20    F  2010   \n",
       "\n",
       "         ...                Larva   Season Código UBIGEO (10 Digitos)  \\\n",
       "0        ...          PFALCIPARUM    RAINY                        NaN   \n",
       "1        ...          PFALCIPARUM    RAINY                        NaN   \n",
       "2        ...                  SIN  WETTEST               1.601010e+09   \n",
       "3        ...                VIVAX  WETTEST                        NaN   \n",
       "4        ...                VIVAX  WETTEST               1.603040e+09   \n",
       "\n",
       "                      Centro poblado     Distrito  Provincia  Región  \\\n",
       "0                                NaN          NaN        NaN     NaN   \n",
       "1                                NaN          NaN        NaN     NaN   \n",
       "2                            IQUITOS      IQUITOS     MAYNAS  LORETO   \n",
       "3                                NaN          NaN        NaN     NaN   \n",
       "4  SAN JUAN DE TROMPETEROS CAMPESINO  TROMPETEROS     LORETO  LORETO   \n",
       "\n",
       "    LATITUD  LONGITUD CLASIFICACIÓN INEI  \n",
       "0       NaN       NaN                NaN  \n",
       "1       NaN       NaN                NaN  \n",
       "2 -3.749930 -73.26217             URBANO  \n",
       "3       NaN       NaN                NaN  \n",
       "4 -3.807801 -75.07599              RURAL  \n",
       "\n",
       "[5 rows x 23 columns]"
      ]
     },
     "execution_count": 5,
     "metadata": {},
     "output_type": "execute_result"
    }
   ],
   "source": [
    "#Merging 2G & cleaned mosquito\n",
    "\n",
    "Data_2G_mosquito=pd.merge(data_mosquito,data_2G_Loreto, how='left',on='LOCALCOD')\n",
    "print(len(Data_2G_mosquito))\n",
    "Data_2G_mosquito.head()"
   ]
  },
  {
   "cell_type": "code",
   "execution_count": 6,
   "metadata": {
    "scrolled": true
   },
   "outputs": [
    {
     "name": "stdout",
     "output_type": "stream",
     "text": [
      "0.6103265390292107\n"
     ]
    },
    {
     "data": {
      "text/plain": [
       "3592"
      ]
     },
     "execution_count": 6,
     "metadata": {},
     "output_type": "execute_result"
    }
   ],
   "source": [
    "# checking the missing values & merge\n",
    "#data_2G_Loreto.head()\n",
    "miss_val=sum(Data_2G_mosquito['Centro poblado'].isnull())\n",
    "print(miss_val/len(Data_2G_mosquito))\n",
    "\n",
    "l=len(list(set(data_mosquito['LOCALCOD'])))\n",
    "l2=data_2G_Loreto.shape[0]\n",
    "data_mosquito['LOCALCOD'].value_counts()\n",
    "l-l2"
   ]
  },
  {
   "cell_type": "code",
   "execution_count": null,
   "metadata": {},
   "outputs": [],
   "source": []
  },
  {
   "cell_type": "code",
   "execution_count": 7,
   "metadata": {},
   "outputs": [],
   "source": [
    "#pd.concat([s1, s2, s3])\n",
    "#pd.concat([data_mosquito, data_2G_Loreto],axis=1)"
   ]
  },
  {
   "cell_type": "code",
   "execution_count": 8,
   "metadata": {},
   "outputs": [],
   "source": [
    "#using join\n",
    "#type(data_mosquito['LOCALCOD'][0])\n",
    "#type(data_2G_Loreto['LOCALCOD'][13439])\n",
    "#data_mosquito.join(data_2G_Loreto,on='LOCALCOD')"
   ]
  },
  {
   "cell_type": "markdown",
   "metadata": {},
   "source": [
    "# Data Visualisation"
   ]
  },
  {
   "cell_type": "code",
   "execution_count": 9,
   "metadata": {},
   "outputs": [],
   "source": [
    "import seaborn as sns"
   ]
  },
  {
   "cell_type": "markdown",
   "metadata": {},
   "source": [
    "https://www.oreilly.com/learning/a-new-visualization-to-beautifully-explore-correlations"
   ]
  },
  {
   "cell_type": "markdown",
   "metadata": {},
   "source": [
    "https://www.kaggle.com/kanncaa1/feature-selection-and-data-visualization"
   ]
  },
  {
   "cell_type": "markdown",
   "metadata": {},
   "source": [
    "https://towardsdatascience.com/the-art-of-effective-visualization-of-multi-dimensional-data-6c7202990c57"
   ]
  },
  {
   "cell_type": "markdown",
   "metadata": {},
   "source": [
    "https://python-graph-gallery.com/heatmap/"
   ]
  },
  {
   "cell_type": "markdown",
   "metadata": {},
   "source": [
    "### Heatmaps for categorical variables > use Bokeh\n",
    "http://bokeh.pydata.org/en/0.11.1/docs/gallery/heatmap_chart.html"
   ]
  },
  {
   "cell_type": "markdown",
   "metadata": {},
   "source": [
    "### Correlations to check \n",
    "* Larva Inspection / Mengue\n",
    "* Mengue / Malaria \n",
    "* Malaria / Weather\n",
    "* Mengue / Weather\n",
    "* Age / Disease\n",
    "* Sex / Disease"
   ]
  },
  {
   "cell_type": "code",
   "execution_count": 10,
   "metadata": {},
   "outputs": [
    {
     "data": {
      "text/html": [
       "<div>\n",
       "<style scoped>\n",
       "    .dataframe tbody tr th:only-of-type {\n",
       "        vertical-align: middle;\n",
       "    }\n",
       "\n",
       "    .dataframe tbody tr th {\n",
       "        vertical-align: top;\n",
       "    }\n",
       "\n",
       "    .dataframe thead th {\n",
       "        text-align: right;\n",
       "    }\n",
       "</style>\n",
       "<table border=\"1\" class=\"dataframe\">\n",
       "  <thead>\n",
       "    <tr style=\"text-align: right;\">\n",
       "      <th></th>\n",
       "      <th>Unnamed: 0</th>\n",
       "      <th>Unnamed: 0.1</th>\n",
       "      <th>FECHA_ING</th>\n",
       "      <th>PERS ID</th>\n",
       "      <th>DIAGNO</th>\n",
       "      <th>UBIGEO</th>\n",
       "      <th>LOCALCOD</th>\n",
       "      <th>EDAD</th>\n",
       "      <th>SEXO</th>\n",
       "      <th>Year</th>\n",
       "      <th>Month</th>\n",
       "      <th>Day</th>\n",
       "      <th>Disease</th>\n",
       "      <th>Larva</th>\n",
       "      <th>Season</th>\n",
       "    </tr>\n",
       "  </thead>\n",
       "  <tbody>\n",
       "    <tr>\n",
       "      <th>0</th>\n",
       "      <td>0</td>\n",
       "      <td>6223</td>\n",
       "      <td>2008-12-12</td>\n",
       "      <td>PA069-SH3</td>\n",
       "      <td>MALARIA PFALCIPARUM</td>\n",
       "      <td>160103</td>\n",
       "      <td>1601030069</td>\n",
       "      <td>22</td>\n",
       "      <td>F</td>\n",
       "      <td>2008</td>\n",
       "      <td>12</td>\n",
       "      <td>12</td>\n",
       "      <td>MALARIA</td>\n",
       "      <td>PFALCIPARUM</td>\n",
       "      <td>RAINY</td>\n",
       "    </tr>\n",
       "    <tr>\n",
       "      <th>1</th>\n",
       "      <td>1</td>\n",
       "      <td>6225</td>\n",
       "      <td>2008-12-12</td>\n",
       "      <td>PA069-SH1</td>\n",
       "      <td>MALARIA PFALCIPARUM</td>\n",
       "      <td>160103</td>\n",
       "      <td>1601030069</td>\n",
       "      <td>22</td>\n",
       "      <td>F</td>\n",
       "      <td>2008</td>\n",
       "      <td>12</td>\n",
       "      <td>12</td>\n",
       "      <td>MALARIA</td>\n",
       "      <td>PFALCIPARUM</td>\n",
       "      <td>RAINY</td>\n",
       "    </tr>\n",
       "    <tr>\n",
       "      <th>2</th>\n",
       "      <td>2</td>\n",
       "      <td>6227</td>\n",
       "      <td>2010-01-18</td>\n",
       "      <td>PE001BEDAR1</td>\n",
       "      <td>DENGUE SIN SEÐALES DE ALARMA</td>\n",
       "      <td>160101</td>\n",
       "      <td>1601010001</td>\n",
       "      <td>37</td>\n",
       "      <td>M</td>\n",
       "      <td>2010</td>\n",
       "      <td>1</td>\n",
       "      <td>18</td>\n",
       "      <td>DENGUE</td>\n",
       "      <td>SIN</td>\n",
       "      <td>WETTEST</td>\n",
       "    </tr>\n",
       "    <tr>\n",
       "      <th>3</th>\n",
       "      <td>3</td>\n",
       "      <td>6228</td>\n",
       "      <td>2010-01-18</td>\n",
       "      <td>AY062ROBAJ1</td>\n",
       "      <td>MALARIA VIVAX</td>\n",
       "      <td>160106</td>\n",
       "      <td>1601060062</td>\n",
       "      <td>12</td>\n",
       "      <td>M</td>\n",
       "      <td>2010</td>\n",
       "      <td>1</td>\n",
       "      <td>18</td>\n",
       "      <td>MALARIA</td>\n",
       "      <td>VIVAX</td>\n",
       "      <td>WETTEST</td>\n",
       "    </tr>\n",
       "    <tr>\n",
       "      <th>4</th>\n",
       "      <td>4</td>\n",
       "      <td>6229</td>\n",
       "      <td>2010-01-25</td>\n",
       "      <td>VI024MARHU1</td>\n",
       "      <td>MALARIA VIVAX</td>\n",
       "      <td>160304</td>\n",
       "      <td>1603040024</td>\n",
       "      <td>20</td>\n",
       "      <td>F</td>\n",
       "      <td>2010</td>\n",
       "      <td>1</td>\n",
       "      <td>25</td>\n",
       "      <td>MALARIA</td>\n",
       "      <td>VIVAX</td>\n",
       "      <td>WETTEST</td>\n",
       "    </tr>\n",
       "  </tbody>\n",
       "</table>\n",
       "</div>"
      ],
      "text/plain": [
       "   Unnamed: 0  Unnamed: 0.1   FECHA_ING      PERS ID  \\\n",
       "0           0          6223  2008-12-12    PA069-SH3   \n",
       "1           1          6225  2008-12-12    PA069-SH1   \n",
       "2           2          6227  2010-01-18  PE001BEDAR1   \n",
       "3           3          6228  2010-01-18  AY062ROBAJ1   \n",
       "4           4          6229  2010-01-25  VI024MARHU1   \n",
       "\n",
       "                         DIAGNO  UBIGEO    LOCALCOD  EDAD SEXO  Year  Month  \\\n",
       "0           MALARIA PFALCIPARUM  160103  1601030069    22    F  2008     12   \n",
       "1           MALARIA PFALCIPARUM  160103  1601030069    22    F  2008     12   \n",
       "2  DENGUE SIN SEÐALES DE ALARMA  160101  1601010001    37    M  2010      1   \n",
       "3                 MALARIA VIVAX  160106  1601060062    12    M  2010      1   \n",
       "4                 MALARIA VIVAX  160304  1603040024    20    F  2010      1   \n",
       "\n",
       "   Day  Disease        Larva   Season  \n",
       "0   12  MALARIA  PFALCIPARUM    RAINY  \n",
       "1   12  MALARIA  PFALCIPARUM    RAINY  \n",
       "2   18   DENGUE          SIN  WETTEST  \n",
       "3   18  MALARIA        VIVAX  WETTEST  \n",
       "4   25  MALARIA        VIVAX  WETTEST  "
      ]
     },
     "execution_count": 10,
     "metadata": {},
     "output_type": "execute_result"
    }
   ],
   "source": [
    "data_mosquito.head()"
   ]
  },
  {
   "cell_type": "code",
   "execution_count": 11,
   "metadata": {},
   "outputs": [
    {
     "name": "stdout",
     "output_type": "stream",
     "text": [
      "53\n"
     ]
    },
    {
     "data": {
      "text/html": [
       "<div>\n",
       "<style scoped>\n",
       "    .dataframe tbody tr th:only-of-type {\n",
       "        vertical-align: middle;\n",
       "    }\n",
       "\n",
       "    .dataframe tbody tr th {\n",
       "        vertical-align: top;\n",
       "    }\n",
       "\n",
       "    .dataframe thead th {\n",
       "        text-align: right;\n",
       "    }\n",
       "</style>\n",
       "<table border=\"1\" class=\"dataframe\">\n",
       "  <thead>\n",
       "    <tr style=\"text-align: right;\">\n",
       "      <th></th>\n",
       "      <th>Unnamed: 0</th>\n",
       "      <th>Unnamed: 0.1</th>\n",
       "      <th>FECHA_ING</th>\n",
       "      <th>PERS ID</th>\n",
       "      <th>DIAGNO</th>\n",
       "      <th>UBIGEO</th>\n",
       "      <th>LOCALCOD</th>\n",
       "      <th>EDAD</th>\n",
       "      <th>SEXO</th>\n",
       "      <th>Year</th>\n",
       "      <th>Month</th>\n",
       "      <th>Day</th>\n",
       "      <th>Disease</th>\n",
       "      <th>Larva</th>\n",
       "      <th>Season</th>\n",
       "      <th>EDAD_BINS</th>\n",
       "    </tr>\n",
       "  </thead>\n",
       "  <tbody>\n",
       "    <tr>\n",
       "      <th>0</th>\n",
       "      <td>0</td>\n",
       "      <td>6223</td>\n",
       "      <td>2008-12-12</td>\n",
       "      <td>PA069-SH3</td>\n",
       "      <td>MALARIA PFALCIPARUM</td>\n",
       "      <td>160103</td>\n",
       "      <td>1601030069</td>\n",
       "      <td>22</td>\n",
       "      <td>F</td>\n",
       "      <td>2008</td>\n",
       "      <td>12</td>\n",
       "      <td>12</td>\n",
       "      <td>MALARIA</td>\n",
       "      <td>PFALCIPARUM</td>\n",
       "      <td>RAINY</td>\n",
       "      <td>(15, 30]</td>\n",
       "    </tr>\n",
       "    <tr>\n",
       "      <th>1</th>\n",
       "      <td>1</td>\n",
       "      <td>6225</td>\n",
       "      <td>2008-12-12</td>\n",
       "      <td>PA069-SH1</td>\n",
       "      <td>MALARIA PFALCIPARUM</td>\n",
       "      <td>160103</td>\n",
       "      <td>1601030069</td>\n",
       "      <td>22</td>\n",
       "      <td>F</td>\n",
       "      <td>2008</td>\n",
       "      <td>12</td>\n",
       "      <td>12</td>\n",
       "      <td>MALARIA</td>\n",
       "      <td>PFALCIPARUM</td>\n",
       "      <td>RAINY</td>\n",
       "      <td>(15, 30]</td>\n",
       "    </tr>\n",
       "    <tr>\n",
       "      <th>2</th>\n",
       "      <td>2</td>\n",
       "      <td>6227</td>\n",
       "      <td>2010-01-18</td>\n",
       "      <td>PE001BEDAR1</td>\n",
       "      <td>DENGUE SIN SEÐALES DE ALARMA</td>\n",
       "      <td>160101</td>\n",
       "      <td>1601010001</td>\n",
       "      <td>37</td>\n",
       "      <td>M</td>\n",
       "      <td>2010</td>\n",
       "      <td>1</td>\n",
       "      <td>18</td>\n",
       "      <td>DENGUE</td>\n",
       "      <td>SIN</td>\n",
       "      <td>WETTEST</td>\n",
       "      <td>(30, 45]</td>\n",
       "    </tr>\n",
       "    <tr>\n",
       "      <th>3</th>\n",
       "      <td>3</td>\n",
       "      <td>6228</td>\n",
       "      <td>2010-01-18</td>\n",
       "      <td>AY062ROBAJ1</td>\n",
       "      <td>MALARIA VIVAX</td>\n",
       "      <td>160106</td>\n",
       "      <td>1601060062</td>\n",
       "      <td>12</td>\n",
       "      <td>M</td>\n",
       "      <td>2010</td>\n",
       "      <td>1</td>\n",
       "      <td>18</td>\n",
       "      <td>MALARIA</td>\n",
       "      <td>VIVAX</td>\n",
       "      <td>WETTEST</td>\n",
       "      <td>(1, 15]</td>\n",
       "    </tr>\n",
       "    <tr>\n",
       "      <th>4</th>\n",
       "      <td>4</td>\n",
       "      <td>6229</td>\n",
       "      <td>2010-01-25</td>\n",
       "      <td>VI024MARHU1</td>\n",
       "      <td>MALARIA VIVAX</td>\n",
       "      <td>160304</td>\n",
       "      <td>1603040024</td>\n",
       "      <td>20</td>\n",
       "      <td>F</td>\n",
       "      <td>2010</td>\n",
       "      <td>1</td>\n",
       "      <td>25</td>\n",
       "      <td>MALARIA</td>\n",
       "      <td>VIVAX</td>\n",
       "      <td>WETTEST</td>\n",
       "      <td>(15, 30]</td>\n",
       "    </tr>\n",
       "  </tbody>\n",
       "</table>\n",
       "</div>"
      ],
      "text/plain": [
       "   Unnamed: 0  Unnamed: 0.1   FECHA_ING      PERS ID  \\\n",
       "0           0          6223  2008-12-12    PA069-SH3   \n",
       "1           1          6225  2008-12-12    PA069-SH1   \n",
       "2           2          6227  2010-01-18  PE001BEDAR1   \n",
       "3           3          6228  2010-01-18  AY062ROBAJ1   \n",
       "4           4          6229  2010-01-25  VI024MARHU1   \n",
       "\n",
       "                         DIAGNO  UBIGEO    LOCALCOD  EDAD SEXO  Year  Month  \\\n",
       "0           MALARIA PFALCIPARUM  160103  1601030069    22    F  2008     12   \n",
       "1           MALARIA PFALCIPARUM  160103  1601030069    22    F  2008     12   \n",
       "2  DENGUE SIN SEÐALES DE ALARMA  160101  1601010001    37    M  2010      1   \n",
       "3                 MALARIA VIVAX  160106  1601060062    12    M  2010      1   \n",
       "4                 MALARIA VIVAX  160304  1603040024    20    F  2010      1   \n",
       "\n",
       "   Day  Disease        Larva   Season EDAD_BINS  \n",
       "0   12  MALARIA  PFALCIPARUM    RAINY  (15, 30]  \n",
       "1   12  MALARIA  PFALCIPARUM    RAINY  (15, 30]  \n",
       "2   18   DENGUE          SIN  WETTEST  (30, 45]  \n",
       "3   18  MALARIA        VIVAX  WETTEST   (1, 15]  \n",
       "4   25  MALARIA        VIVAX  WETTEST  (15, 30]  "
      ]
     },
     "execution_count": 11,
     "metadata": {},
     "output_type": "execute_result"
    }
   ],
   "source": [
    "#data_mosquito.groupby(by='DIAGNO').size()\n",
    "print(len(list(set(data_mosquito['UBIGEO']))))\n",
    "#print(len(list(set(data_mosquito['LOCALCOD']))))\n",
    "data_mosquito['EDAD']=data_mosquito['EDAD'].apply(int)\n",
    "#data_mosquito['EDAD'].dtype\n",
    "\n",
    "ages=list(set(data_mosquito['EDAD']))\n",
    "#ages_int=[list(map(int,x) for x in ages)]\n",
    "#ages_int\n",
    "#[list(map(int, x[2:])) for x in A]\n",
    "data_mosquito['EDAD'].describe()\n",
    "\n",
    "bins=[1,15,30,45,60,90]\n",
    "EDAD_BINS=pd.cut(data_mosquito['EDAD'],bins)\n",
    "data_mosquito['EDAD_BINS']=EDAD_BINS\n",
    "data_mosquito.head()"
   ]
  },
  {
   "cell_type": "code",
   "execution_count": 12,
   "metadata": {},
   "outputs": [],
   "source": [
    "years=list(set(data_mosquito['Year']))\n",
    "#years"
   ]
  },
  {
   "cell_type": "code",
   "execution_count": 13,
   "metadata": {},
   "outputs": [
    {
     "data": {
      "text/plain": [
       "['MALARIA', 'DENGUE']"
      ]
     },
     "execution_count": 13,
     "metadata": {},
     "output_type": "execute_result"
    }
   ],
   "source": [
    "list(set(data_mosquito['Disease']))"
   ]
  },
  {
   "cell_type": "code",
   "execution_count": 35,
   "metadata": {},
   "outputs": [
    {
     "data": {
      "text/html": [
       "\n",
       "    <div class=\"bk-root\">\n",
       "        <a href=\"https://bokeh.pydata.org\" target=\"_blank\" class=\"bk-logo bk-logo-small bk-logo-notebook\"></a>\n",
       "        <span id=\"f758c1ac-8877-47db-8063-74756abed134\">Loading BokehJS ...</span>\n",
       "    </div>"
      ]
     },
     "metadata": {},
     "output_type": "display_data"
    },
    {
     "data": {
      "application/javascript": [
       "\n",
       "(function(root) {\n",
       "  function now() {\n",
       "    return new Date();\n",
       "  }\n",
       "\n",
       "  var force = true;\n",
       "\n",
       "  if (typeof (root._bokeh_onload_callbacks) === \"undefined\" || force === true) {\n",
       "    root._bokeh_onload_callbacks = [];\n",
       "    root._bokeh_is_loading = undefined;\n",
       "  }\n",
       "\n",
       "  var JS_MIME_TYPE = 'application/javascript';\n",
       "  var HTML_MIME_TYPE = 'text/html';\n",
       "  var EXEC_MIME_TYPE = 'application/vnd.bokehjs_exec.v0+json';\n",
       "  var CLASS_NAME = 'output_bokeh rendered_html';\n",
       "\n",
       "  /**\n",
       "   * Render data to the DOM node\n",
       "   */\n",
       "  function render(props, node) {\n",
       "    var script = document.createElement(\"script\");\n",
       "    node.appendChild(script);\n",
       "  }\n",
       "\n",
       "  /**\n",
       "   * Handle when an output is cleared or removed\n",
       "   */\n",
       "  function handleClearOutput(event, handle) {\n",
       "    var cell = handle.cell;\n",
       "\n",
       "    var id = cell.output_area._bokeh_element_id;\n",
       "    var server_id = cell.output_area._bokeh_server_id;\n",
       "    // Clean up Bokeh references\n",
       "    if (id !== undefined) {\n",
       "      Bokeh.index[id].model.document.clear();\n",
       "      delete Bokeh.index[id];\n",
       "    }\n",
       "\n",
       "    if (server_id !== undefined) {\n",
       "      // Clean up Bokeh references\n",
       "      var cmd = \"from bokeh.io.state import curstate; print(curstate().uuid_to_server['\" + server_id + \"'].get_sessions()[0].document.roots[0]._id)\";\n",
       "      cell.notebook.kernel.execute(cmd, {\n",
       "        iopub: {\n",
       "          output: function(msg) {\n",
       "            var element_id = msg.content.text.trim();\n",
       "            Bokeh.index[element_id].model.document.clear();\n",
       "            delete Bokeh.index[element_id];\n",
       "          }\n",
       "        }\n",
       "      });\n",
       "      // Destroy server and session\n",
       "      var cmd = \"import bokeh.io.notebook as ion; ion.destroy_server('\" + server_id + \"')\";\n",
       "      cell.notebook.kernel.execute(cmd);\n",
       "    }\n",
       "  }\n",
       "\n",
       "  /**\n",
       "   * Handle when a new output is added\n",
       "   */\n",
       "  function handleAddOutput(event, handle) {\n",
       "    var output_area = handle.output_area;\n",
       "    var output = handle.output;\n",
       "\n",
       "    // limit handleAddOutput to display_data with EXEC_MIME_TYPE content only\n",
       "    if ((output.output_type != \"display_data\") || (!output.data.hasOwnProperty(EXEC_MIME_TYPE))) {\n",
       "      return\n",
       "    }\n",
       "\n",
       "    var toinsert = output_area.element.find(\".\" + CLASS_NAME.split(' ')[0]);\n",
       "\n",
       "    if (output.metadata[EXEC_MIME_TYPE][\"id\"] !== undefined) {\n",
       "      toinsert[0].firstChild.textContent = output.data[JS_MIME_TYPE];\n",
       "      // store reference to embed id on output_area\n",
       "      output_area._bokeh_element_id = output.metadata[EXEC_MIME_TYPE][\"id\"];\n",
       "    }\n",
       "    if (output.metadata[EXEC_MIME_TYPE][\"server_id\"] !== undefined) {\n",
       "      var bk_div = document.createElement(\"div\");\n",
       "      bk_div.innerHTML = output.data[HTML_MIME_TYPE];\n",
       "      var script_attrs = bk_div.children[0].attributes;\n",
       "      for (var i = 0; i < script_attrs.length; i++) {\n",
       "        toinsert[0].firstChild.setAttribute(script_attrs[i].name, script_attrs[i].value);\n",
       "      }\n",
       "      // store reference to server id on output_area\n",
       "      output_area._bokeh_server_id = output.metadata[EXEC_MIME_TYPE][\"server_id\"];\n",
       "    }\n",
       "  }\n",
       "\n",
       "  function register_renderer(events, OutputArea) {\n",
       "\n",
       "    function append_mime(data, metadata, element) {\n",
       "      // create a DOM node to render to\n",
       "      var toinsert = this.create_output_subarea(\n",
       "        metadata,\n",
       "        CLASS_NAME,\n",
       "        EXEC_MIME_TYPE\n",
       "      );\n",
       "      this.keyboard_manager.register_events(toinsert);\n",
       "      // Render to node\n",
       "      var props = {data: data, metadata: metadata[EXEC_MIME_TYPE]};\n",
       "      render(props, toinsert[0]);\n",
       "      element.append(toinsert);\n",
       "      return toinsert\n",
       "    }\n",
       "\n",
       "    /* Handle when an output is cleared or removed */\n",
       "    events.on('clear_output.CodeCell', handleClearOutput);\n",
       "    events.on('delete.Cell', handleClearOutput);\n",
       "\n",
       "    /* Handle when a new output is added */\n",
       "    events.on('output_added.OutputArea', handleAddOutput);\n",
       "\n",
       "    /**\n",
       "     * Register the mime type and append_mime function with output_area\n",
       "     */\n",
       "    OutputArea.prototype.register_mime_type(EXEC_MIME_TYPE, append_mime, {\n",
       "      /* Is output safe? */\n",
       "      safe: true,\n",
       "      /* Index of renderer in `output_area.display_order` */\n",
       "      index: 0\n",
       "    });\n",
       "  }\n",
       "\n",
       "  // register the mime type if in Jupyter Notebook environment and previously unregistered\n",
       "  if (root.Jupyter !== undefined) {\n",
       "    var events = require('base/js/events');\n",
       "    var OutputArea = require('notebook/js/outputarea').OutputArea;\n",
       "\n",
       "    if (OutputArea.prototype.mime_types().indexOf(EXEC_MIME_TYPE) == -1) {\n",
       "      register_renderer(events, OutputArea);\n",
       "    }\n",
       "  }\n",
       "\n",
       "  \n",
       "  if (typeof (root._bokeh_timeout) === \"undefined\" || force === true) {\n",
       "    root._bokeh_timeout = Date.now() + 5000;\n",
       "    root._bokeh_failed_load = false;\n",
       "  }\n",
       "\n",
       "  var NB_LOAD_WARNING = {'data': {'text/html':\n",
       "     \"<div style='background-color: #fdd'>\\n\"+\n",
       "     \"<p>\\n\"+\n",
       "     \"BokehJS does not appear to have successfully loaded. If loading BokehJS from CDN, this \\n\"+\n",
       "     \"may be due to a slow or bad network connection. Possible fixes:\\n\"+\n",
       "     \"</p>\\n\"+\n",
       "     \"<ul>\\n\"+\n",
       "     \"<li>re-rerun `output_notebook()` to attempt to load from CDN again, or</li>\\n\"+\n",
       "     \"<li>use INLINE resources instead, as so:</li>\\n\"+\n",
       "     \"</ul>\\n\"+\n",
       "     \"<code>\\n\"+\n",
       "     \"from bokeh.resources import INLINE\\n\"+\n",
       "     \"output_notebook(resources=INLINE)\\n\"+\n",
       "     \"</code>\\n\"+\n",
       "     \"</div>\"}};\n",
       "\n",
       "  function display_loaded() {\n",
       "    var el = document.getElementById(\"f758c1ac-8877-47db-8063-74756abed134\");\n",
       "    if (el != null) {\n",
       "      el.textContent = \"BokehJS is loading...\";\n",
       "    }\n",
       "    if (root.Bokeh !== undefined) {\n",
       "      if (el != null) {\n",
       "        el.textContent = \"BokehJS \" + root.Bokeh.version + \" successfully loaded.\";\n",
       "      }\n",
       "    } else if (Date.now() < root._bokeh_timeout) {\n",
       "      setTimeout(display_loaded, 100)\n",
       "    }\n",
       "  }\n",
       "\n",
       "\n",
       "  function run_callbacks() {\n",
       "    try {\n",
       "      root._bokeh_onload_callbacks.forEach(function(callback) { callback() });\n",
       "    }\n",
       "    finally {\n",
       "      delete root._bokeh_onload_callbacks\n",
       "    }\n",
       "    console.info(\"Bokeh: all callbacks have finished\");\n",
       "  }\n",
       "\n",
       "  function load_libs(js_urls, callback) {\n",
       "    root._bokeh_onload_callbacks.push(callback);\n",
       "    if (root._bokeh_is_loading > 0) {\n",
       "      console.log(\"Bokeh: BokehJS is being loaded, scheduling callback at\", now());\n",
       "      return null;\n",
       "    }\n",
       "    if (js_urls == null || js_urls.length === 0) {\n",
       "      run_callbacks();\n",
       "      return null;\n",
       "    }\n",
       "    console.log(\"Bokeh: BokehJS not loaded, scheduling load and callback at\", now());\n",
       "    root._bokeh_is_loading = js_urls.length;\n",
       "    for (var i = 0; i < js_urls.length; i++) {\n",
       "      var url = js_urls[i];\n",
       "      var s = document.createElement('script');\n",
       "      s.src = url;\n",
       "      s.async = false;\n",
       "      s.onreadystatechange = s.onload = function() {\n",
       "        root._bokeh_is_loading--;\n",
       "        if (root._bokeh_is_loading === 0) {\n",
       "          console.log(\"Bokeh: all BokehJS libraries loaded\");\n",
       "          run_callbacks()\n",
       "        }\n",
       "      };\n",
       "      s.onerror = function() {\n",
       "        console.warn(\"failed to load library \" + url);\n",
       "      };\n",
       "      console.log(\"Bokeh: injecting script tag for BokehJS library: \", url);\n",
       "      document.getElementsByTagName(\"head\")[0].appendChild(s);\n",
       "    }\n",
       "  };var element = document.getElementById(\"f758c1ac-8877-47db-8063-74756abed134\");\n",
       "  if (element == null) {\n",
       "    console.log(\"Bokeh: ERROR: autoload.js configured with elementid 'f758c1ac-8877-47db-8063-74756abed134' but no matching script tag was found. \")\n",
       "    return false;\n",
       "  }\n",
       "\n",
       "  var js_urls = [\"https://cdn.pydata.org/bokeh/release/bokeh-0.12.13.min.js\", \"https://cdn.pydata.org/bokeh/release/bokeh-widgets-0.12.13.min.js\", \"https://cdn.pydata.org/bokeh/release/bokeh-tables-0.12.13.min.js\", \"https://cdn.pydata.org/bokeh/release/bokeh-gl-0.12.13.min.js\"];\n",
       "\n",
       "  var inline_js = [\n",
       "    function(Bokeh) {\n",
       "      Bokeh.set_log_level(\"info\");\n",
       "    },\n",
       "    \n",
       "    function(Bokeh) {\n",
       "      \n",
       "    },\n",
       "    function(Bokeh) {\n",
       "      console.log(\"Bokeh: injecting CSS: https://cdn.pydata.org/bokeh/release/bokeh-0.12.13.min.css\");\n",
       "      Bokeh.embed.inject_css(\"https://cdn.pydata.org/bokeh/release/bokeh-0.12.13.min.css\");\n",
       "      console.log(\"Bokeh: injecting CSS: https://cdn.pydata.org/bokeh/release/bokeh-widgets-0.12.13.min.css\");\n",
       "      Bokeh.embed.inject_css(\"https://cdn.pydata.org/bokeh/release/bokeh-widgets-0.12.13.min.css\");\n",
       "      console.log(\"Bokeh: injecting CSS: https://cdn.pydata.org/bokeh/release/bokeh-tables-0.12.13.min.css\");\n",
       "      Bokeh.embed.inject_css(\"https://cdn.pydata.org/bokeh/release/bokeh-tables-0.12.13.min.css\");\n",
       "    }\n",
       "  ];\n",
       "\n",
       "  function run_inline_js() {\n",
       "    \n",
       "    if ((root.Bokeh !== undefined) || (force === true)) {\n",
       "      for (var i = 0; i < inline_js.length; i++) {\n",
       "        inline_js[i].call(root, root.Bokeh);\n",
       "      }if (force === true) {\n",
       "        display_loaded();\n",
       "      }} else if (Date.now() < root._bokeh_timeout) {\n",
       "      setTimeout(run_inline_js, 100);\n",
       "    } else if (!root._bokeh_failed_load) {\n",
       "      console.log(\"Bokeh: BokehJS failed to load within specified timeout.\");\n",
       "      root._bokeh_failed_load = true;\n",
       "    } else if (force !== true) {\n",
       "      var cell = $(document.getElementById(\"f758c1ac-8877-47db-8063-74756abed134\")).parents('.cell').data().cell;\n",
       "      cell.output_area.append_execute_result(NB_LOAD_WARNING)\n",
       "    }\n",
       "\n",
       "  }\n",
       "\n",
       "  if (root._bokeh_is_loading === 0) {\n",
       "    console.log(\"Bokeh: BokehJS loaded, going straight to plotting\");\n",
       "    run_inline_js();\n",
       "  } else {\n",
       "    load_libs(js_urls, function() {\n",
       "      console.log(\"Bokeh: BokehJS plotting callback run at\", now());\n",
       "      run_inline_js();\n",
       "    });\n",
       "  }\n",
       "}(window));"
      ],
      "application/vnd.bokehjs_load.v0+json": "\n(function(root) {\n  function now() {\n    return new Date();\n  }\n\n  var force = true;\n\n  if (typeof (root._bokeh_onload_callbacks) === \"undefined\" || force === true) {\n    root._bokeh_onload_callbacks = [];\n    root._bokeh_is_loading = undefined;\n  }\n\n  \n\n  \n  if (typeof (root._bokeh_timeout) === \"undefined\" || force === true) {\n    root._bokeh_timeout = Date.now() + 5000;\n    root._bokeh_failed_load = false;\n  }\n\n  var NB_LOAD_WARNING = {'data': {'text/html':\n     \"<div style='background-color: #fdd'>\\n\"+\n     \"<p>\\n\"+\n     \"BokehJS does not appear to have successfully loaded. If loading BokehJS from CDN, this \\n\"+\n     \"may be due to a slow or bad network connection. Possible fixes:\\n\"+\n     \"</p>\\n\"+\n     \"<ul>\\n\"+\n     \"<li>re-rerun `output_notebook()` to attempt to load from CDN again, or</li>\\n\"+\n     \"<li>use INLINE resources instead, as so:</li>\\n\"+\n     \"</ul>\\n\"+\n     \"<code>\\n\"+\n     \"from bokeh.resources import INLINE\\n\"+\n     \"output_notebook(resources=INLINE)\\n\"+\n     \"</code>\\n\"+\n     \"</div>\"}};\n\n  function display_loaded() {\n    var el = document.getElementById(\"f758c1ac-8877-47db-8063-74756abed134\");\n    if (el != null) {\n      el.textContent = \"BokehJS is loading...\";\n    }\n    if (root.Bokeh !== undefined) {\n      if (el != null) {\n        el.textContent = \"BokehJS \" + root.Bokeh.version + \" successfully loaded.\";\n      }\n    } else if (Date.now() < root._bokeh_timeout) {\n      setTimeout(display_loaded, 100)\n    }\n  }\n\n\n  function run_callbacks() {\n    try {\n      root._bokeh_onload_callbacks.forEach(function(callback) { callback() });\n    }\n    finally {\n      delete root._bokeh_onload_callbacks\n    }\n    console.info(\"Bokeh: all callbacks have finished\");\n  }\n\n  function load_libs(js_urls, callback) {\n    root._bokeh_onload_callbacks.push(callback);\n    if (root._bokeh_is_loading > 0) {\n      console.log(\"Bokeh: BokehJS is being loaded, scheduling callback at\", now());\n      return null;\n    }\n    if (js_urls == null || js_urls.length === 0) {\n      run_callbacks();\n      return null;\n    }\n    console.log(\"Bokeh: BokehJS not loaded, scheduling load and callback at\", now());\n    root._bokeh_is_loading = js_urls.length;\n    for (var i = 0; i < js_urls.length; i++) {\n      var url = js_urls[i];\n      var s = document.createElement('script');\n      s.src = url;\n      s.async = false;\n      s.onreadystatechange = s.onload = function() {\n        root._bokeh_is_loading--;\n        if (root._bokeh_is_loading === 0) {\n          console.log(\"Bokeh: all BokehJS libraries loaded\");\n          run_callbacks()\n        }\n      };\n      s.onerror = function() {\n        console.warn(\"failed to load library \" + url);\n      };\n      console.log(\"Bokeh: injecting script tag for BokehJS library: \", url);\n      document.getElementsByTagName(\"head\")[0].appendChild(s);\n    }\n  };var element = document.getElementById(\"f758c1ac-8877-47db-8063-74756abed134\");\n  if (element == null) {\n    console.log(\"Bokeh: ERROR: autoload.js configured with elementid 'f758c1ac-8877-47db-8063-74756abed134' but no matching script tag was found. \")\n    return false;\n  }\n\n  var js_urls = [\"https://cdn.pydata.org/bokeh/release/bokeh-0.12.13.min.js\", \"https://cdn.pydata.org/bokeh/release/bokeh-widgets-0.12.13.min.js\", \"https://cdn.pydata.org/bokeh/release/bokeh-tables-0.12.13.min.js\", \"https://cdn.pydata.org/bokeh/release/bokeh-gl-0.12.13.min.js\"];\n\n  var inline_js = [\n    function(Bokeh) {\n      Bokeh.set_log_level(\"info\");\n    },\n    \n    function(Bokeh) {\n      \n    },\n    function(Bokeh) {\n      console.log(\"Bokeh: injecting CSS: https://cdn.pydata.org/bokeh/release/bokeh-0.12.13.min.css\");\n      Bokeh.embed.inject_css(\"https://cdn.pydata.org/bokeh/release/bokeh-0.12.13.min.css\");\n      console.log(\"Bokeh: injecting CSS: https://cdn.pydata.org/bokeh/release/bokeh-widgets-0.12.13.min.css\");\n      Bokeh.embed.inject_css(\"https://cdn.pydata.org/bokeh/release/bokeh-widgets-0.12.13.min.css\");\n      console.log(\"Bokeh: injecting CSS: https://cdn.pydata.org/bokeh/release/bokeh-tables-0.12.13.min.css\");\n      Bokeh.embed.inject_css(\"https://cdn.pydata.org/bokeh/release/bokeh-tables-0.12.13.min.css\");\n    }\n  ];\n\n  function run_inline_js() {\n    \n    if ((root.Bokeh !== undefined) || (force === true)) {\n      for (var i = 0; i < inline_js.length; i++) {\n        inline_js[i].call(root, root.Bokeh);\n      }if (force === true) {\n        display_loaded();\n      }} else if (Date.now() < root._bokeh_timeout) {\n      setTimeout(run_inline_js, 100);\n    } else if (!root._bokeh_failed_load) {\n      console.log(\"Bokeh: BokehJS failed to load within specified timeout.\");\n      root._bokeh_failed_load = true;\n    } else if (force !== true) {\n      var cell = $(document.getElementById(\"f758c1ac-8877-47db-8063-74756abed134\")).parents('.cell').data().cell;\n      cell.output_area.append_execute_result(NB_LOAD_WARNING)\n    }\n\n  }\n\n  if (root._bokeh_is_loading === 0) {\n    console.log(\"Bokeh: BokehJS loaded, going straight to plotting\");\n    run_inline_js();\n  } else {\n    load_libs(js_urls, function() {\n      console.log(\"Bokeh: BokehJS plotting callback run at\", now());\n      run_inline_js();\n    });\n  }\n}(window));"
     },
     "metadata": {},
     "output_type": "display_data"
    }
   ],
   "source": [
    "from bokeh.io import output_notebook, show\n",
    "from bokeh.plotting import figure\n",
    "output_notebook()"
   ]
  },
  {
   "cell_type": "code",
   "execution_count": 16,
   "metadata": {},
   "outputs": [
    {
     "data": {
      "text/plain": [
       "[275705, 88723, 56233, 9962, 448, 442, 74]"
      ]
     },
     "execution_count": 16,
     "metadata": {},
     "output_type": "execute_result"
    }
   ],
   "source": [
    "counts = data_mosquito['DIAGNO'].value_counts()\n",
    "list(counts.values)"
   ]
  },
  {
   "cell_type": "code",
   "execution_count": 17,
   "metadata": {},
   "outputs": [],
   "source": [
    "#data_mosquito.groupby(by=['DIAGNO','Year']).size()"
   ]
  },
  {
   "cell_type": "code",
   "execution_count": 18,
   "metadata": {},
   "outputs": [],
   "source": [
    "import seaborn as sns\n",
    "#sns.stripplot('DIAGNO', 'Year', data=data_mosquito)"
   ]
  },
  {
   "cell_type": "markdown",
   "metadata": {},
   "source": [
    "### 1. Heatmap of mosquito dataset"
   ]
  },
  {
   "cell_type": "code",
   "execution_count": 19,
   "metadata": {},
   "outputs": [
    {
     "data": {
      "image/png": "[encoded data removed]",
      "text/plain": [
       "<Figure size 792x648 with 2 Axes>"
      ]
     },
     "metadata": {},
     "output_type": "display_data"
    }
   ],
   "source": [
    "# heatmap of mosquito dataset\n",
    "\n",
    "from string import ascii_letters\n",
    "import numpy as np\n",
    "import pandas as pd\n",
    "import seaborn as sns\n",
    "import matplotlib.pyplot as plt\n",
    "\n",
    "sns.set(style=\"white\")\n",
    "\n",
    "# Generate a large random dataset\n",
    "rs = np.random.RandomState(33)\n",
    "d = data_mosquito.loc[:,['Disease','DIAGNO','SEXO','EDAD_BINS','Month','Season']]\n",
    "\n",
    "# Compute the correlation matrix\n",
    "corr = d.apply(lambda x : pd.factorize(x)[0]).corr(method='pearson', min_periods=1)\n",
    "\n",
    "# Generate a mask for the upper triangle\n",
    "mask = np.zeros_like(corr, dtype=np.bool)\n",
    "mask[np.triu_indices_from(mask)] = True\n",
    "\n",
    "# Set up the matplotlib figure\n",
    "f, ax = plt.subplots(figsize=(11, 9))\n",
    "\n",
    "# Generate a custom diverging colormap\n",
    "cmap = sns.diverging_palette(220, 10, as_cmap=True)\n",
    "\n",
    "# Draw the heatmap with the mask and correct aspect ratio\n",
    "plot1=sns.heatmap(corr, mask=mask, cmap=cmap, vmax=.3, center=0,annot=True,\n",
    "            square=True, linewidths=.5, cbar_kws={\"shrink\": .5})\n",
    "#ax = plt.axes()\n",
    "#sns.heatmap(data, ax = ax)\n",
    "\n",
    "ax.set_title('mosquito db heatmap',fontsize=50)\n",
    "#plt.show()\n",
    "f.savefig(\"mos_heatmap.png\")"
   ]
  },
  {
   "cell_type": "code",
   "execution_count": 36,
   "metadata": {},
   "outputs": [
    {
     "name": "stdout",
     "output_type": "stream",
     "text": [
      "Diseases:['MALARIA', 'DENGUE']\n",
      "Diagnosis:['MALARIA PMALARIAE', 'MALARIA MIXTA', 'DENGUE SIN SEÐALES DE ALARMA', 'DENGUE GRAVE', 'MALARIA PFALCIPARUM', 'MALARIA VIVAX', 'DENGUE CON SEÐAL DE ALARMA']\n",
      "Seasons:['WETTEST', 'DRY', 'RAINY']\n"
     ]
    }
   ],
   "source": [
    "print('Diseases:{}'.format(list(set(data_mosquito['Disease']))))\n",
    "print('Diagnosis:{}'.format(list(set(data_mosquito['DIAGNO']))))\n",
    "print('Seasons:{}'.format(list(set(data_mosquito['Season']))))"
   ]
  },
  {
   "cell_type": "markdown",
   "metadata": {},
   "source": [
    "### 2. Disease counts by Age bins and Diagnosis"
   ]
  },
  {
   "cell_type": "code",
   "execution_count": 21,
   "metadata": {},
   "outputs": [],
   "source": [
    "d=data_mosquito.loc[:,['DIAGNO','SEXO','EDAD_BINS','Month','Season']]\n",
    "#d.apply(lambda x : pd.factorize(x)[0]).corr(method='pearson', min_periods=1)"
   ]
  },
  {
   "cell_type": "code",
   "execution_count": 37,
   "metadata": {},
   "outputs": [
    {
     "data": {
      "image/png": "[encoded data removed]",
      "text/plain": [
       "<Figure size 1440x720 with 1 Axes>"
      ]
     },
     "metadata": {},
     "output_type": "display_data"
    }
   ],
   "source": [
    "data_mosquito.groupby(by=['Disease','Year']).size().plot(kind='bar')\n",
    "#df.groupby('column1').size().plot(kind='bar')\n",
    "import seaborn as sns\n",
    "\n",
    "ax = sns.countplot(x=\"EDAD_BINS\", hue=\"DIAGNO\", data=data_mosquito)\n",
    "fig=ax.get_figure()\n",
    "ax.figure.set_size_inches(20,10)\n",
    "ax.legend(loc='upper right')\n",
    "fig.savefig('EDAD_DIAGNO')"
   ]
  },
  {
   "cell_type": "markdown",
   "metadata": {},
   "source": [
    "### 3. Disease counts by years and Diagnosis"
   ]
  },
  {
   "cell_type": "code",
   "execution_count": 39,
   "metadata": {},
   "outputs": [
    {
     "data": {
      "image/png": "[encoded data removed]",
      "text/plain": [
       "<Figure size 1440x720 with 1 Axes>"
      ]
     },
     "metadata": {},
     "output_type": "display_data"
    }
   ],
   "source": [
    "data_mosquito.groupby(by=['Disease','Year']).size().plot(kind='bar')\n",
    "#df.groupby('column1').size().plot(kind='bar')\n",
    "import seaborn as sns\n",
    "\n",
    "ax = sns.countplot(x=\"Year\", hue=\"DIAGNO\", data=data_mosquito)\n",
    "fig=ax.get_figure()\n",
    "ax.figure.set_size_inches(20,10)\n",
    "ax.legend(loc='upper left')\n",
    "#plt.setp(ax.get_legend().get_title(), fontsize='50')\n",
    "fig.savefig('YEAR_DIAGNO')"
   ]
  },
  {
   "cell_type": "markdown",
   "metadata": {},
   "source": [
    "### 3. Disease counts by age bins and Disease type"
   ]
  },
  {
   "cell_type": "code",
   "execution_count": 40,
   "metadata": {},
   "outputs": [
    {
     "data": {
      "image/png": "[encoded data removed]",
      "text/plain": [
       "<Figure size 432x288 with 1 Axes>"
      ]
     },
     "metadata": {},
     "output_type": "display_data"
    }
   ],
   "source": [
    "#f, ax = plt.plot()\n",
    "ax = sns.countplot(x=\"EDAD_BINS\", hue=\"Disease\", data=data_mosquito)\n",
    "ax.set_title('Disease count by ages')\n",
    "fig=ax.get_figure()\n",
    "fig.savefig('EDAD_Disease')\n",
    "#f.savefig('EDAD_Disease')\n",
    "#swarm_plot = sns.swarmplot(...)\n",
    "#fig = swarm_plot.get_figure()\n",
    "#fig.savefig(...)"
   ]
  },
  {
   "cell_type": "markdown",
   "metadata": {},
   "source": [
    "### 4. Disease counts by sex and Disease type"
   ]
  },
  {
   "cell_type": "code",
   "execution_count": 42,
   "metadata": {},
   "outputs": [
    {
     "data": {
      "image/png": "[encoded data removed]",
      "text/plain": [
       "<Figure size 720x576 with 1 Axes>"
      ]
     },
     "metadata": {},
     "output_type": "display_data"
    }
   ],
   "source": [
    "#ax = sns.countplot(x=\"SEXO\", hue=\"DIAGNO\", data=data_mosquito)\n",
    "ax = sns.countplot(x=\"SEXO\", hue=\"Disease\", data=data_mosquito)\n",
    "fig=ax.get_figure()\n",
    "ax.figure.set_size_inches(10,8)\n",
    "ax.legend(loc='upper left')\n",
    "fig.savefig('SEXO_Disease')"
   ]
  },
  {
   "cell_type": "markdown",
   "metadata": {},
   "source": [
    "### 5. Disease counts by years and Diagnosis"
   ]
  },
  {
   "cell_type": "code",
   "execution_count": 43,
   "metadata": {},
   "outputs": [
    {
     "data": {
      "image/png": "[encoded data removed]",
      "text/plain": [
       "<Figure size 720x720 with 1 Axes>"
      ]
     },
     "metadata": {},
     "output_type": "display_data"
    }
   ],
   "source": [
    "#ax = sns.countplot(x=\"SEXO\", hue=\"DIAGNO\", data=data_mosquito)\n",
    "ax = sns.countplot(x=\"SEXO\", hue=\"DIAGNO\", data=data_mosquito)\n",
    "fig=ax.get_figure()\n",
    "ax.figure.set_size_inches(10,10)\n",
    "ax.legend(loc='upper left')\n",
    "fig.savefig('SEXO_DIAGNO')"
   ]
  },
  {
   "cell_type": "markdown",
   "metadata": {},
   "source": [
    "### 6. Disease counts by Disease type and Diagnosis"
   ]
  },
  {
   "cell_type": "code",
   "execution_count": 44,
   "metadata": {},
   "outputs": [
    {
     "data": {
      "image/png": "[encoded data removed]",
      "text/plain": [
       "<Figure size 720x576 with 1 Axes>"
      ]
     },
     "metadata": {},
     "output_type": "display_data"
    }
   ],
   "source": [
    "#ax = sns.countplot(x=\"Season\", hue=\"Disease\", data=data_mosquito)\n",
    "ax = sns.countplot(x=\"Disease\", hue=\"DIAGNO\", data=data_mosquito)\n",
    "fig=ax.get_figure()\n",
    "ax.figure.set_size_inches(10,8)\n",
    "fig.savefig('Disease_DIAGNO')"
   ]
  },
  {
   "cell_type": "markdown",
   "metadata": {},
   "source": [
    "### 7. Disease counts by Disease type and Month"
   ]
  },
  {
   "cell_type": "code",
   "execution_count": 45,
   "metadata": {},
   "outputs": [
    {
     "data": {
      "image/png": "[encoded data removed]",
      "text/plain": [
       "<Figure size 720x576 with 1 Axes>"
      ]
     },
     "metadata": {},
     "output_type": "display_data"
    }
   ],
   "source": [
    "ax = sns.countplot(x=\"Month\", hue=\"Disease\", data=data_mosquito)\n",
    "ax.set_title('Disease count by Month')\n",
    "ax.figure.set_size_inches(10,8)\n",
    "fig=ax.get_figure()\n",
    "fig.savefig('Month_Disease')"
   ]
  },
  {
   "cell_type": "markdown",
   "metadata": {},
   "source": [
    "### 8. Disease counts by Diagnosis and Month"
   ]
  },
  {
   "cell_type": "code",
   "execution_count": 46,
   "metadata": {},
   "outputs": [
    {
     "data": {
      "image/png": "[encoded data removed]",
      "text/plain": [
       "<Figure size 2160x576 with 1 Axes>"
      ]
     },
     "metadata": {},
     "output_type": "display_data"
    }
   ],
   "source": [
    "ax = sns.countplot(x=\"Month\", hue=\"DIAGNO\", data=data_mosquito)\n",
    "ax.set_title('Disease count by Month')\n",
    "ax.figure.set_size_inches(30,8)\n",
    "fig=ax.get_figure()\n",
    "fig.savefig('Month_DIAGNO')"
   ]
  },
  {
   "cell_type": "markdown",
   "metadata": {},
   "source": [
    "### 9. Disease counts by Disease type and Season"
   ]
  },
  {
   "cell_type": "code",
   "execution_count": 48,
   "metadata": {},
   "outputs": [
    {
     "data": {
      "image/png": "[encoded data removed]",
      "text/plain": [
       "<Figure size 720x576 with 1 Axes>"
      ]
     },
     "metadata": {},
     "output_type": "display_data"
    }
   ],
   "source": [
    "ax = sns.countplot(x=\"Season\", hue=\"Disease\", data=data_mosquito)\n",
    "ax.set_title('Disease count by Month')\n",
    "ax.figure.set_size_inches(10,8)\n",
    "fig=ax.get_figure()\n",
    "fig.savefig('Season_Disease')"
   ]
  },
  {
   "cell_type": "markdown",
   "metadata": {},
   "source": [
    "### 9. Disease counts by Diagnosis and Season"
   ]
  },
  {
   "cell_type": "code",
   "execution_count": 49,
   "metadata": {},
   "outputs": [
    {
     "data": {
      "image/png": "[encoded data removed]",
      "text/plain": [
       "<Figure size 720x576 with 1 Axes>"
      ]
     },
     "metadata": {},
     "output_type": "display_data"
    }
   ],
   "source": [
    "ax = sns.countplot(x=\"Season\", hue=\"DIAGNO\", data=data_mosquito)\n",
    "ax.set_title('Disease count by Month')\n",
    "ax.figure.set_size_inches(10,8)\n",
    "fig=ax.get_figure()\n",
    "fig.savefig('Season_DIAGNO')"
   ]
  },
  {
   "cell_type": "markdown",
   "metadata": {},
   "source": [
    "## Draft plots"
   ]
  },
  {
   "cell_type": "markdown",
   "metadata": {},
   "source": [
    "### Plot Attempts with bokeh"
   ]
  },
  {
   "cell_type": "code",
   "execution_count": 34,
   "metadata": {},
   "outputs": [
    {
     "name": "stderr",
     "output_type": "stream",
     "text": [
      "/anaconda3/lib/python3.6/site-packages/bokeh/models/mappers.py:82: UserWarning: Palette length does not match number of factors. ['DENGUE CON SEÐAL DE ALARMA'] will be assigned to `nan_color` gray\n",
      "  warnings.warn(\"Palette length does not match number of factors. %s will be assigned to `nan_color` %s\" % (extra_factors, self.nan_color))\n"
     ]
    }
   ],
   "source": [
    "from bokeh.io import show, output_file\n",
    "from bokeh.models import ColumnDataSource\n",
    "from bokeh.palettes import Spectral6\n",
    "from bokeh.plotting import figure\n",
    "from bokeh.transform import factor_cmap\n",
    "\n",
    "output_file(\"colormapped_bars.html\")\n",
    "\n",
    "diseases=list(set(data_mosquito['DIAGNO']))\n",
    "\n",
    "counts = data_mosquito['DIAGNO'].value_counts()\n",
    "counts=list(counts.values)\n",
    "\n",
    "source = ColumnDataSource(data=dict(diseases=diseases, counts=counts))\n",
    "\n",
    "p = figure(x_range=diseases, plot_height=3000, toolbar_location=None, title=\"diseases Counts\")\n",
    "p.vbar(x='diseases', top='counts', width=3, source=source, legend=\"diseases\",\n",
    "       line_color='white', fill_color=factor_cmap('diseases', palette=Spectral6, factors=diseases))\n",
    "\n",
    "p.xgrid.grid_line_color = None\n",
    "p.y_range.start = 0\n",
    "p.y_range.end = 9\n",
    "p.legend.orientation = \"horizontal\"\n",
    "p.legend.location = \"top_center\"\n",
    "\n",
    "#show(p)"
   ]
  },
  {
   "cell_type": "code",
   "execution_count": null,
   "metadata": {},
   "outputs": [],
   "source": [
    "# Diseases counts by year\n",
    "\n",
    "from bokeh.core.properties import value\n",
    "from bokeh.io import show, output_file\n",
    "from bokeh.models import ColumnDataSource\n",
    "from bokeh.plotting import figure\n",
    "from bokeh.transform import dodge\n",
    "\n",
    "output_file(\"dodged_bars.html\")\n",
    "\n",
    "#fruits = ['Apples', 'Pears', 'Nectarines', 'Plums', 'Grapes', 'Strawberries']\n",
    "#years = ['2015', '2016', '2017']\n",
    "\n",
    "diseases=list(set(data_mosquito['DIAGNO']))\n",
    "\n",
    "counts = data_mosquito['DIAGNO'].value_counts()\n",
    "counts=list(counts.values)\n",
    "\n",
    "\n",
    "years=list(set(data_mosquito['Year']))\n",
    "years\n",
    "\n",
    "data = {'fruits' : fruits,\n",
    "        '2015'   : [2, 1, 4, 3, 2, 4],\n",
    "        '2016'   : [5, 3, 3, 2, 4, 6],\n",
    "        '2017'   : [3, 2, 4, 4, 5, 3]}\n",
    "\n",
    "source = ColumnDataSource(data=data)\n",
    "\n",
    "p = figure(x_range=fruits, y_range=(0, 10), plot_height=250, title=\"Fruit Counts by Year\",\n",
    "           toolbar_location=None, tools=\"\")\n",
    "\n",
    "p.vbar(x=dodge('fruits', -0.25, range=p.x_range), top='2015', width=0.2, source=source,\n",
    "       color=\"#c9d9d3\", legend=value(\"2015\"))\n",
    "\n",
    "p.vbar(x=dodge('fruits',  0.0,  range=p.x_range), top='2016', width=0.2, source=source,\n",
    "       color=\"#718dbf\", legend=value(\"2016\"))\n",
    "\n",
    "p.vbar(x=dodge('fruits',  0.25, range=p.x_range), top='2017', width=0.2, source=source,\n",
    "       color=\"#e84d60\", legend=value(\"2017\"))\n",
    "\n",
    "p.x_range.range_padding = 0.1\n",
    "p.xgrid.grid_line_color = None\n",
    "p.legend.location = \"top_left\"\n",
    "p.legend.orientation = \"horizontal\"\n",
    "\n",
    "#show(p)"
   ]
  },
  {
   "cell_type": "markdown",
   "metadata": {},
   "source": [
    "### Pairwise comparisons"
   ]
  },
  {
   "cell_type": "code",
   "execution_count": null,
   "metadata": {},
   "outputs": [],
   "source": [
    "#iris = sns.load_dataset(\"iris\")\n",
    "#sns.pairplot(iris);"
   ]
  },
  {
   "cell_type": "code",
   "execution_count": null,
   "metadata": {},
   "outputs": [],
   "source": [
    "#sns.jointplot(x=\"x\", y=\"y\", data=data_mosquito, kind=\"kde\");"
   ]
  },
  {
   "cell_type": "markdown",
   "metadata": {},
   "source": [
    "### Categorical plots with seaborn"
   ]
  },
  {
   "cell_type": "code",
   "execution_count": null,
   "metadata": {},
   "outputs": [],
   "source": [
    "import seaborn as sns\n",
    "import matplotlib.pyplot as plt\n",
    "sns.set(style=\"ticks\", color_codes=True)"
   ]
  },
  {
   "cell_type": "code",
   "execution_count": null,
   "metadata": {},
   "outputs": [],
   "source": [
    "data_mosquito.head()"
   ]
  },
  {
   "cell_type": "code",
   "execution_count": null,
   "metadata": {},
   "outputs": [],
   "source": [
    "#sns.catplot(x=\"day\", y=\"total_bill\", hue=\"smoker\", kind=\"box\", data=tips);\n",
    "\n",
    "#diamonds = sns.load_dataset(\"diamonds\")\n",
    "#sns.catplot(x=\"color\", y=\"price\", kind=\"boxen\",\n",
    "           # data=diamonds.sort_values(\"color\"));"
   ]
  },
  {
   "cell_type": "code",
   "execution_count": null,
   "metadata": {},
   "outputs": [],
   "source": [
    "#titanic = sns.load_dataset(\"titanic\")\n",
    "#sns.catplot(x=\"sex\", y=\"survived\", hue=\"class\", kind=\"bar\", data=titanic);\n",
    "#sns.catplot(x=\"deck\", kind=\"count\", palette=\"ch:.25\", data=titanic);"
   ]
  },
  {
   "cell_type": "code",
   "execution_count": null,
   "metadata": {},
   "outputs": [],
   "source": []
  }
 ],
 "metadata": {
  "kernelspec": {
   "display_name": "Python 3",
   "language": "python",
   "name": "python3"
  },
  "language_info": {
   "codemirror_mode": {
    "name": "ipython",
    "version": 3
   },
   "file_extension": ".py",
   "mimetype": "text/x-python",
   "name": "python",
   "nbconvert_exporter": "python",
   "pygments_lexer": "ipython3",
   "version": "3.6.4"
  }
 },
 "nbformat": 4,
 "nbformat_minor": 2
}
